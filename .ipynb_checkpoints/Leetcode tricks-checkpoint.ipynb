{
 "cells": [
  {
   "cell_type": "markdown",
   "metadata": {},
   "source": [
    "# Bit operations\n",
    "\n",
    "x << y: Same as multiplying x by 2^y.  e.g. 1 << 4 = 16\n",
    "x >> y: This is the same as dividing x by 2**y.\n",
    "x & y: Does a \"bitwise and\". Each bit of the output is 1 if the corresponding bit of x AND of y is 1, otherwise it's 0.\n",
    "x | y: Does a \"bitwise or\". Each bit of the output is 0 if the corresponding bit of x AND of y is 0, otherwise it's 1.\n",
    "~ x: Returns the complement of x - the number you get by switching each 1 for a 0 and each 0 for a 1. This is the same as -x - 1.\n",
    "x ^ y: Does a \"bitwise exclusive or\".(xor) Each bit of the output is the same as the corresponding bit in x if that bit in y is 0, and it's the complement of the bit in x if that bit in y is 1.\n",
    "i&1 is odd if 1, 0 otherwise\n",
    "Flip bits, Typically, ~n = -n - 1"
   ]
  },
  {
   "cell_type": "code",
   "execution_count": null,
   "metadata": {
    "collapsed": true
   },
   "outputs": [],
   "source": [
    "# fast way to Count the number of bits in an integer in python. \n",
    "n = 10; bin(n).count(\"1\") "
   ]
  },
  {
   "cell_type": "code",
   "execution_count": 1,
   "metadata": {
    "collapsed": false
   },
   "outputs": [
    {
     "name": "stdout",
     "output_type": "stream",
     "text": [
      "spam, ham, eggs\n"
     ]
    }
   ],
   "source": [
    "# if you have list of strings, you may simply use join this way:\n",
    "mylist = ['spam', 'ham', 'eggs']\n",
    "print( ', '.join(mylist))"
   ]
  },
  {
   "cell_type": "code",
   "execution_count": 2,
   "metadata": {
    "collapsed": false
   },
   "outputs": [
    {
     "name": "stdout",
     "output_type": "stream",
     "text": [
      "80, 443, 8080, 8081\n",
      "80, 443, 8080, 8081\n",
      "80, 443, 8080, 8081\n"
     ]
    }
   ],
   "source": [
    "# convert int list to string\n",
    "list_of_ints = [80, 443, 8080, 8081]\n",
    "print(str(list_of_ints).strip('[]'))\n",
    "# or\n",
    "print(str(list_of_ints)[1:-1])\n",
    "# or\n",
    "print( ', '.join(map(str, list_of_ints)))"
   ]
  },
  {
   "cell_type": "code",
   "execution_count": null,
   "metadata": {
    "collapsed": true
   },
   "outputs": [],
   "source": [
    "# find all\n",
    "import numpy as np\n",
    "a = np.array([1,2,3,4,5,1,6,1]) \n",
    "print(np.where(a == a.min()))"
   ]
  },
  {
   "cell_type": "code",
   "execution_count": null,
   "metadata": {
    "collapsed": true
   },
   "outputs": [],
   "source": [
    "# Counting bits, O(n) algorithm for all bits in [1,n]\n",
    "n = 5 # input to function\n",
    "res = [0]\n",
    "for i in range(1, n + 1):\n",
    "    # Number of 1's in i = (i & 1) + number of 1's in (i / 2).\n",
    "    res.append((i & 1) + res[i >> 1])"
   ]
  },
  {
   "cell_type": "code",
   "execution_count": null,
   "metadata": {
    "collapsed": true
   },
   "outputs": [],
   "source": [
    "# evaluate expression as string\n",
    "eval('(2*(3-(4*5)))')"
   ]
  },
  {
   "cell_type": "code",
   "execution_count": null,
   "metadata": {
    "collapsed": true
   },
   "outputs": [],
   "source": [
    "# Sorting by multiple values\n",
    "list1 = [[7,0], [4,4], [7,1], [5,0], [6,1], [5,2]]\n",
    "import operator\n",
    "list1.sort(key = operator.itemgetter(0, 1))\n",
    "# multisort, multi order, The .sort() method is stable: you can do multiple passes. \n",
    "list1.sort(key = operator.itemgetter(1))\n",
    "list1.sort(key = operator.itemgetter(0),reverse = True)  "
   ]
  },
  {
   "cell_type": "code",
   "execution_count": null,
   "metadata": {
    "collapsed": true
   },
   "outputs": [],
   "source": [
    "# frequency dictionary\n",
    "from collections import Counter\n",
    "list1=['apple','egg','apple','banana','egg','apple']\n",
    "counts = Counter(list1)\n",
    "print(counts)"
   ]
  },
  {
   "cell_type": "code",
   "execution_count": null,
   "metadata": {
    "collapsed": true
   },
   "outputs": [],
   "source": [
    "# The following code creates a binary string of length 26 \n",
    "# which indicates whether a letter is present in the word or not\n",
    "w = 'abcd'\n",
    "mask = 0\n",
    "for c in w:\n",
    "    mask |= (1 << (ord(c) - 97))"
   ]
  },
  {
   "cell_type": "code",
   "execution_count": null,
   "metadata": {
    "collapsed": true
   },
   "outputs": [],
   "source": [
    "# try-catch\n",
    "try:\n",
    "  ll = [1,2,3,4];\n",
    "  ll.index(6)\n",
    "except: \n",
    "  #pass\n",
    "  print('error')"
   ]
  },
  {
   "cell_type": "markdown",
   "metadata": {},
   "source": [
    "# Trees\n",
    "Advantages of binary heap over a balanced BST\n",
    "\n",
    "Average time insertion into a binary heap is O(1), for BST is O(log(n)). This is the killer feature of heaps.There are also other heaps which reach O(1) amortized (stronger) like the Fibonacci Heap, and even worst case, like the Brodal queue, although they may not be practical because of non-asymptotic performance: Are Fibonacci heaps or Brodal queues used in practice anywhere? binary heaps can be efficiently implemented on top of arrays, BST cannot.So we don't have to store 3 pointers per node (left, right, parent) plus balancing data (e.g. RB-ness), saving memory by a constant factor.binary heap creation is O(n) worst case, O(n log(n)) for BST.Inorder traversal of BST retrieves elements of tree in the sorted order.\n",
    "\n",
    "Advantage of BST over binary heap\n",
    "Search for arbitrary elements is O(log(n)). This is the killer feature of BSTs. For heap, it is O(n) in general, except for the largest element which is O(1). \"False\" advantage of heap over BST heap is O(1) to find max, BST O(log(n)).\n",
    "\n",
    "This is a common misconception, because it is trivial to modify a balanced BST to keep track of the largest element, and update it whenever that element could be changed: on insertion of a larger one swap, on removal find the second largest. Can we use binary search tree to simulate heap operation? (mentioned by Yeo).\n",
    "\n",
    "Actually, this is a limitation of heaps compared to BSTs: the only efficient search is that for the largest element.\n",
    "Average binary heap insert is O(1)\n",
    "\n",
    "Find k-th smallest element in BST (Order Statistics in BST): http://www.geeksforgeeks.org/find-k-th-smallest-element-in-bst-order-statistics-in-bst/\n"
   ]
  },
  {
   "cell_type": "code",
   "execution_count": null,
   "metadata": {
    "collapsed": true
   },
   "outputs": [],
   "source": [
    "#tree traversal\n",
    "\n",
    "def inorder(root, ans):\n",
    "    if(root):\n",
    "        inorder(root.left,ans);\n",
    "        ans.append(root.val)\n",
    "        inorder(root.right,ans);\n",
    "    return ans\n",
    "    \n",
    "def levelOrder(self, root):\n",
    "    if root is None:\n",
    "        return []\n",
    "    result, current = [], [root]\n",
    "    while current:\n",
    "        next_level, vals = [], []\n",
    "        for node in current:\n",
    "            vals.append(node.val)\n",
    "            if node.left:\n",
    "                next_level.append(node.left)\n",
    "            if node.right:\n",
    "                next_level.append(node.right)\n",
    "        current = next_level\n",
    "        result.append(vals)\n",
    "    return result"
   ]
  },
  {
   "cell_type": "markdown",
   "metadata": {},
   "source": [
    "-------------------- Dynamic programming ---------------------------------\n",
    "Matrix chain multiplication, https://en.wikipedia.org/wiki/Matrix_chain_multiplication\n",
    "Kmeans: https://datasciencelab.wordpress.com/2013/12/12/clustering-with-k-means-in-python/\n",
    "Shortest path python\n",
    "A*\n",
    "knapsack\n",
    "-------------------- Sorting/ data structure ------------------------\n",
    "Heap sort and merge sort\n",
    "Hash Tables: how hash tables work + implement one using only arrays\n",
    "binary, n-ary trees and trie-trees, at least one flavor of  balanced binary tree, \n",
    "whether it's a red/black tree, a splay tree or an AVL tree and how it's\n",
    "three basic ways to represent a graph in memory (objects and pointers, matrix and adjacency list),"
   ]
  },
  {
   "cell_type": "code",
   "execution_count": 4,
   "metadata": {
    "collapsed": false
   },
   "outputs": [
    {
     "name": "stdout",
     "output_type": "stream",
     "text": [
      "3\n"
     ]
    }
   ],
   "source": [
    "import random\n",
    "def kthLargest( nums, k):\n",
    "    import heapq\n",
    "    h = []\n",
    "    a_rev = [ -x for x in a];\n",
    "\n",
    "    for i in range(0,len(a)):\n",
    "        if len(h) < k:\n",
    "            heapq.heappush(h, a_rev[i])\n",
    "        else:\n",
    "            heapq.heappushpop(h, a_rev[i])\n",
    "\n",
    "    return -heapq.heappop(h)\n",
    "    \n",
    "a = [1,2,3,4,5,6,7,7]\n",
    "k = 3 \n",
    "random.shuffle(a)\n",
    "print(kthLargest( a, k))"
   ]
  },
  {
   "cell_type": "code",
   "execution_count": null,
   "metadata": {
    "collapsed": true
   },
   "outputs": [],
   "source": []
  }
 ],
 "metadata": {
  "kernelspec": {
   "display_name": "Python [default]",
   "language": "python",
   "name": "python3"
  },
  "language_info": {
   "codemirror_mode": {
    "name": "ipython",
    "version": 3
   },
   "file_extension": ".py",
   "mimetype": "text/x-python",
   "name": "python",
   "nbconvert_exporter": "python",
   "pygments_lexer": "ipython3",
   "version": "3.5.2"
  }
 },
 "nbformat": 4,
 "nbformat_minor": 1
}
