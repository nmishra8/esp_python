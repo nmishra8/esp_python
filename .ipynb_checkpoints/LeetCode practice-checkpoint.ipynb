{
 "cells": [
  {
   "cell_type": "markdown",
   "metadata": {},
   "source": [
    "# Trees"
   ]
  },
  {
   "cell_type": "code",
   "execution_count": null,
   "metadata": {
    "collapsed": false
   },
   "outputs": [],
   "source": [
    "# Inorder traversal\n",
    "class node:\n",
    "    def __init__(self,val):\n",
    "        self.left, self.right, self.val = None, None, val\n",
    "        \n",
    "def print_tree(root):  \n",
    "    print('Nikita')\n",
    "    if(root):\n",
    "        print(root.val)\n",
    "        print_tree(root.left)\n",
    "        print_tree(root.right)\n",
    "        \n",
    "def inorder(root, ans):\n",
    "    if(root):\n",
    "        inorder(root.left,ans);\n",
    "        ans.append(root.val)\n",
    "        inorder(root.right,ans);\n",
    "    return ans\n",
    "        \n",
    "root = node(0)\n",
    "node1 = node(1)\n",
    "node2 = node(2)\n",
    "root.left, root.right = node1, node2\n",
    "print_tree(root)\n",
    "\n",
    "ans = inorder(root,[])\n",
    "print(ans)\n",
    "print('Nikita')"
   ]
  },
  {
   "cell_type": "markdown",
   "metadata": {},
   "source": [
    "# Linked list"
   ]
  },
  {
   "cell_type": "code",
   "execution_count": null,
   "metadata": {
    "collapsed": true
   },
   "outputs": [],
   "source": [
    "# Search and element"
   ]
  }
 ],
 "metadata": {
  "kernelspec": {
   "display_name": "Python [default]",
   "language": "python",
   "name": "python3"
  },
  "language_info": {
   "codemirror_mode": {
    "name": "ipython",
    "version": 3
   },
   "file_extension": ".py",
   "mimetype": "text/x-python",
   "name": "python",
   "nbconvert_exporter": "python",
   "pygments_lexer": "ipython3",
   "version": "3.5.2"
  }
 },
 "nbformat": 4,
 "nbformat_minor": 1
}
