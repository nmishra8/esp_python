{
 "cells": [
  {
   "cell_type": "code",
   "execution_count": 1,
   "metadata": {
    "collapsed": false
   },
   "outputs": [],
   "source": [
    "import random\n",
    "import scipy.io as sio\n",
    "import scipy\n",
    "import operator\n",
    "import itertools\n",
    "import collections\n",
    "from tabulate import tabulate\n",
    "import numpy as np\n",
    "\n",
    "N         = 10  # Number of jobs in the queue\n",
    "P         = 2*N # Number of processors,special case for infinite proc\n",
    "kk        = 2   # Pairs of applications\n",
    "qos       = 0.9 # QoS threshold\n",
    "\n",
    "# loading data\n",
    "def loaddata(k):\n",
    "    mat_contents = scipy.io.loadmat('../tmp/dat-multi-'+str(k)+'.mat')\n",
    "    oct_struct   = mat_contents['dat']\n",
    "    X ,Y         = oct_struct['xx'], oct_struct['yy']\n",
    "    X, Y         = X[0,0], Y[0,0]\n",
    "    return X, Y\n",
    "    \n",
    "with open('../data/All_app.tsv') as f:\n",
    "    app_name = f.read().split('\\n')\n",
    "\n",
    "X,Y       = loaddata(2)\n",
    "n         = len(app_name)"
   ]
  },
  {
   "cell_type": "code",
   "execution_count": 33,
   "metadata": {
    "collapsed": false
   },
   "outputs": [],
   "source": [
    "job_slice = collections.namedtuple('job_slice',\\\n",
    "            ['job_id','name','app_id','type','work','qos','deadline'])\n",
    "\n",
    "# generate a random job queue\n",
    "class job_queue:\n",
    "    def __init__(self):\n",
    "        self._job_queue = []\n",
    "    def random(self, N, qos, app_name):\n",
    "        \"\"\"\n",
    "        :type N:          int: Number of jobs\n",
    "        :type qos:        float: qos constraint\n",
    "        :type app_name:   list[str]: application names\n",
    "        :rtype: job_queue:list[job_slice]: Set of jobs\n",
    "        \"\"\"    \n",
    "        # Harcoding qos job names\n",
    "        app_name_qos   = ['x264','vips','swish','swaptions','streamcluster',\\\n",
    "                      'STREAM','fluidanimate','blackscholes']\n",
    "        num_qos   = 0\n",
    "        job_queue = []\n",
    "        for i in range(N):\n",
    "            j_work     = random.choice([100,500,1000])\n",
    "            if num_qos < P/2:\n",
    "                j_type     = random.choice(['qos', 'batch'])\n",
    "            else:\n",
    "                j_type     = 'batch'\n",
    "\n",
    "            if j_type      == 'qos':\n",
    "                  \n",
    "                j_qos      = qos\n",
    "                j_deadline = (1+(1-qos))*j_work\n",
    "                #j_deadline = None\n",
    "                num_qos    += 1\n",
    "                indices    = [i for i,item in enumerate(app_name) \\\n",
    "                              if item in app_name_qos]\n",
    "                j_iden     = random.choice(indices)\n",
    "                j_name     = app_name[j_iden-1]\n",
    "            elif j_type    == 'batch':\n",
    "                j_deadline = random.choice(range(j_work,3000,100))\n",
    "                j_qos      = None\n",
    "                indices    = [i for i,item in enumerate(app_name) \\\n",
    "                              if item not in app_name_qos] \n",
    "                j_iden     = random.choice(indices)\n",
    "                j_name     = app_name[j_iden-1]\n",
    "            job = job_slice(i, j_name, j_iden, j_type,  j_work, j_qos, j_deadline)\n",
    "            job_queue.append(job);\n",
    "        #job_queue.sort(key=operator.attrgetter('job'));\n",
    "        self._job_queue = job_queue\n",
    "        \n",
    "    def __len__(self): \n",
    "        return len(self._job_queue)\n",
    "    \n",
    "    def __getitem__(self, position): \n",
    "        return self._job_queue[position]\n",
    "    \n",
    "    def append(self, item): \n",
    "        self._job_queue.append(item)\n",
    "    \n",
    "    def __repr__(self):\n",
    "        return tabulate(list([job for job in self._job_queue] ), headers = job_slice._fields)\n",
    "    \n",
    "\n",
    "\n",
    "def nchoosek_rep(array, k):\n",
    "    return list(itertools.combinations_with_replacement(array, k))\n",
    "\n",
    "# class servers:\n",
    "#     def __init__(self, Performance):\n",
    "#         self.machines = []\n",
    "#     # This function adds a job to the current job_queue on machine\n",
    "#     # and returns true if the job could be successfully added\n",
    "    \n",
    "#     # This function adds a new machine\n",
    "#     def update(self, machine):\n",
    "#         return True"
   ]
  },
  {
   "cell_type": "code",
   "execution_count": 44,
   "metadata": {
    "collapsed": false
   },
   "outputs": [],
   "source": [
    "#description\n",
    "\n",
    "schedule = collections.namedtuple('schedule',['interval','jobs',\\\n",
    "                                              'speeds','est_speeds'])  \n",
    "# scheduling jobs\n",
    "class machine:\n",
    "    def __init__(self):\n",
    "        self.utilization   = 0\n",
    "        \n",
    "        self._performance  = []\n",
    "        self._schedules    = [] # list of schedules\n",
    "        self._job_queue    = job_queue() # jobs on the machine \n",
    "        \n",
    "    def fit(self, performance, app_name):\n",
    "        self._performance = performance\n",
    "        n         = len(app_name)\n",
    "    def update(self, job):\n",
    "        job_queue = self._job_queue\n",
    "        job_queue.append(job)\n",
    "        jobs = sorted(job_queue, key=operator.attrgetter('app_id'))\n",
    "\n",
    "        app_id   = list([job.app_id for job in jobs])\n",
    "        W        = list([job.work for job in jobs])\n",
    "        deadline = list([job.deadline for job in jobs])\n",
    "        #print(app_id,W,deadline)\n",
    "        res = self.__lin_prog(app_id, W, deadline, Y, n)\n",
    "        return res\n",
    "    def __lin_prog(self, app_id, W, deadline, Y, n):\n",
    "        \n",
    "        a = nchoosek_rep(app_id, 2)\n",
    "        aa = nchoosek_rep(range(len(app_id)), 2)\n",
    "        b  = nchoosek_rep(range(n), 2)\n",
    "        A  = np.zeros(shape=(len(app_id),len(a)))\n",
    "\n",
    "        for i in range(len(a)):\n",
    "            tmp = b.index(a[i])\n",
    "            A[aa[i][0],i], A[aa[i][1],i] = Y[tmp, 0], Y[tmp,1]  \n",
    "\n",
    "        A = np.concatenate([np.eye(len(app_id)), A.T])\n",
    "        A = A.T\n",
    "#         print('A', A.shape)\n",
    "#         print('b', A.shape[1])\n",
    "#         print('c', len(W))\n",
    "        res = scipy.optimize.linprog([1]*A.shape[1], A_eq=A, b_eq=W)\n",
    "                                    #options={\"disp\": True})\n",
    "        #np.set_printoptions(precision=2);print(res.fun)\n",
    "        return res\n"
   ]
  },
  {
   "cell_type": "code",
   "execution_count": 45,
   "metadata": {
    "collapsed": false
   },
   "outputs": [
    {
     "name": "stdout",
     "output_type": "stream",
     "text": [
      "1000.0\n",
      "999.409961473\n",
      "1026.05854494\n",
      "2026.05854494\n",
      "2023.1083523\n",
      "2078.09011725\n",
      "2096.93177321\n",
      "2136.64938315\n",
      "3136.64938315\n",
      "3272.27248121\n",
      "  job_id  name              app_id  type      work    qos    deadline\n",
      "--------  --------------  --------  ------  ------  -----  ----------\n",
      "       0  streamcluster         22  batch     1000               1800\n",
      "       1  dijkstra               8  qos        100    0.9         110\n",
      "       2  jacobi                13  batch      500               2500\n",
      "       3  svm_rfe               23  qos       1000    0.9        1100\n",
      "       4  dijkstra               8  qos        500    0.9         550\n",
      "       5  hotspot               12  batch      100               1000\n",
      "       6  vips                  27  qos        100    0.9         110\n",
      "       7  STREAM                21  qos        100    0.9         110\n",
      "       8  particlefilter        19  batch     1000               1900\n",
      "       9  vips                  27  qos        500    0.9         550\n"
     ]
    }
   ],
   "source": [
    "jobs = job_queue()\n",
    "jobs.random(N, qos, app_name)\n",
    "\n",
    "mac = machine()\n",
    "mac.fit(Y,app_name)\n",
    "A  = np.zeros(shape=(3,4))\n",
    "type(A.shape[1])\n",
    "\n",
    "for job in jobs:\n",
    "    res = mac.update(job)\n",
    "    print(res.fun)\n",
    "print(jobs)\n"
   ]
  },
  {
   "cell_type": "code",
   "execution_count": 38,
   "metadata": {
    "collapsed": false
   },
   "outputs": [
    {
     "name": "stdout",
     "output_type": "stream",
     "text": [
      "None\n"
     ]
    }
   ],
   "source": [
    "print(res)"
   ]
  },
  {
   "cell_type": "code",
   "execution_count": null,
   "metadata": {
    "collapsed": true
   },
   "outputs": [],
   "source": []
  }
 ],
 "metadata": {
  "anaconda-cloud": {},
  "kernelspec": {
   "display_name": "Python [default]",
   "language": "python",
   "name": "python3"
  },
  "language_info": {
   "codemirror_mode": {
    "name": "ipython",
    "version": 3
   },
   "file_extension": ".py",
   "mimetype": "text/x-python",
   "name": "python",
   "nbconvert_exporter": "python",
   "pygments_lexer": "ipython3",
   "version": "3.5.2"
  }
 },
 "nbformat": 4,
 "nbformat_minor": 1
}
