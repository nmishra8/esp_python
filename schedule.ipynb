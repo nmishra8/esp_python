{
 "cells": [
  {
   "cell_type": "code",
   "execution_count": 9,
   "metadata": {
    "collapsed": true
   },
   "outputs": [],
   "source": [
    "import random\n",
    "import scipy.io as sio\n",
    "import operator\n",
    "import itertools\n",
    "import collections\n",
    "from tabulate import tabulate\n",
    "\n",
    "N         = 10  # Number of jobs in the queue\n",
    "P         = 2*N # Number of processors,special case for infinite proc\n",
    "k         = 2   # Pairs of applications\n",
    "qos       = 0.9 # QoS threshold\n",
    "\n",
    "# loading data\n",
    "def loaddata(k):\n",
    "    mat_contents = sio.loadmat('../tmp/dat-multi-'+str(k)+'.mat')\n",
    "    oct_struct   = mat_contents['dat']\n",
    "    X ,Y         = oct_struct['xx'], oct_struct['yy']\n",
    "    X, Y         = X[0,0], Y[0,0]\n",
    "    return X, Y\n",
    "    \n",
    "with open('../data/All_app.tsv') as f:\n",
    "    app_name = f.read().split('\\n')\n",
    "\n",
    "X,Y       = loaddata(2)\n",
    "n         = len(app_name)"
   ]
  },
  {
   "cell_type": "code",
   "execution_count": 25,
   "metadata": {
    "collapsed": false
   },
   "outputs": [],
   "source": [
    "job_slice = collections.namedtuple('job_slice',\\\n",
    "            ['job_id','name','app_id','type','work','qos','deadline'])\n",
    "\n",
    "# generate a random job queue\n",
    "class job_queue:\n",
    "    def __init__(self):\n",
    "        self._job_queue = []\n",
    "    def random(self, N, qos, app_name):\n",
    "        \"\"\"\n",
    "        :type N:          int: Number of jobs\n",
    "        :type qos:        float: qos constraint\n",
    "        :type app_name:   list[str]: application names\n",
    "        :rtype: job_queue:list[job_slice]: Set of jobs\n",
    "        \"\"\"    \n",
    "        # Harcoding qos job names\n",
    "        app_name_qos   = ['x264','vips','swish','swaptions','streamcluster',\\\n",
    "                      'STREAM','fluidanimate','blackscholes']\n",
    "        num_qos   = 0\n",
    "        job_queue = []\n",
    "        for i in range(N):\n",
    "            j_work     = random.choice([100,500,1000])\n",
    "            if num_qos < P/2:\n",
    "                j_type     = random.choice(['qos', 'batch'])\n",
    "            else:\n",
    "                j_type     = 'batch'\n",
    "\n",
    "            if j_type      == 'qos':\n",
    "                  \n",
    "                j_qos      = qos\n",
    "                j_deadline = (1+(1-qos))*j_work\n",
    "                num_qos    += 1\n",
    "                indices    = [i for i,item in enumerate(app_name) \\\n",
    "                              if item in app_name_qos]\n",
    "                j_iden     = random.choice(indices)\n",
    "                j_name     = app_name[j_iden-1]\n",
    "            elif j_type    == 'batch':\n",
    "                j_deadline = random.choice(range(j_work,3000,100))\n",
    "                j_qos      = None\n",
    "                indices    = [i for i,item in enumerate(app_name) \\\n",
    "                              if item not in app_name_qos] \n",
    "                j_iden     = random.choice(indices)\n",
    "                j_name     = app_name[j_iden-1]\n",
    "            job = job_slice(i, j_name, j_iden, j_type,  j_work, j_qos, j_deadline)\n",
    "            job_queue.append(job);\n",
    "        #job_queue.sort(key=operator.attrgetter('job'));\n",
    "        self._job_queue = job_queue\n",
    "        \n",
    "    def __len__(self): \n",
    "        return len(self._job_queue)\n",
    "    \n",
    "    def __getitem__(self, position): \n",
    "        return self._job_queue[position]\n",
    "    \n",
    "    def __repr__(self):\n",
    "        return tabulate(list([job for job in self._job_queue] ), headers = job_slice._fields)\n",
    "    \n"
   ]
  },
  {
   "cell_type": "code",
   "execution_count": 26,
   "metadata": {
    "collapsed": false
   },
   "outputs": [
    {
     "name": "stdout",
     "output_type": "stream",
     "text": [
      "  job_id  name            app_id  type      work    qos    deadline\n",
      "--------  ------------  --------  ------  ------  -----  ----------\n",
      "       0  HOP                 11  batch      100               1800\n",
      "       1  lud                 17  batch     1000               2700\n",
      "       2  vips                27  qos        500    0.9         550\n",
      "       3  DFS                  7  batch     1000               2100\n",
      "       4  HOP                 11  batch      500               2500\n",
      "       5  backprop             2  batch     1000               2900\n",
      "       6  srad                20  qos        100    0.9         110\n",
      "       7  blackscholes         4  batch      500               1100\n",
      "       8  swaptions           24  qos       1000    0.9        1100\n",
      "       9  swish               25  batch      500               1400\n"
     ]
    }
   ],
   "source": [
    "jobs = job_queue()\n",
    "jobs.random(N, qos, app_name)\n",
    "print(jobs)"
   ]
  },
  {
   "cell_type": "code",
   "execution_count": 24,
   "metadata": {
    "collapsed": false
   },
   "outputs": [],
   "source": [
    "#description\n",
    "schedule = collections.namedtuple('schedule',['interval','jobs', 'speeds','est_speeds'])  \n",
    "\n",
    "# scheduling jobs\n",
    "class machine:\n",
    "    def __init__(self):\n",
    "        self.utilization  = 0\n",
    "        \n",
    "        self._performance = []\n",
    "        self._schedules    = [] # list of schedules\n",
    "        self._job_queue    = [] # jobs on the machine \n",
    "        \n",
    "    def fit(self, performance, app_name):\n",
    "        self._performance = performance\n",
    "        n         = len(app_name)\n",
    "    def update(self, job):\n",
    "        \n",
    "        return True\n",
    "    \n",
    "mac = machine()\n",
    "mac.fit(Y);\n",
    "\n",
    "  \n",
    "\n",
    "# class servers:\n",
    "#     def __init__(self, Performance):\n",
    "#         self.machines = []\n",
    "#     # This function adds a job to the current job_queue on machine\n",
    "#     # and returns true if the job could be successfully added\n",
    "    \n",
    "#     # This function adds a new machine\n",
    "#     def update(self, machine):\n",
    "#         return True\n",
    "\n",
    "\n"
   ]
  },
  {
   "cell_type": "code",
   "execution_count": 4,
   "metadata": {
    "collapsed": false
   },
   "outputs": [],
   "source": [
    "# prediction\n",
    "def random_forest():\n",
    "    return[]\n",
    "\n",
    "def nchoosek_rep(array, k):\n",
    "    return list(itertools.combinations_with_replacement(array, k))\n",
    "# process job queue and return schedule\n",
    "def process_jobqueue(P, Y, k, app_name, job_queue):\n",
    "    \"\"\"\n",
    "    :type P:          int: Number of processors \n",
    "    :type Y:          list[list[float]]: Performance of application pairs\n",
    "    :type job_queue:  list[job_slice]: Set of jobs to be scheduled\n",
    "    :rtype: schedule: schedule\n",
    "    \"\"\"    \n",
    "    n         = len(app_name)\n",
    "    job_list = sorted([job_item.iden for job_item in job_queue])\n",
    "    a,b      = nchoosek_rep(job_list, 2), nchoosek_rep(range(n), 2)\n",
    "    common_index = [i for i, e in enumerate(b) if e in a]\n",
    "    return []\n",
    "job_sched = process_jobqueue(P, Y, k, app_name, job_queue)\n"
   ]
  },
  {
   "cell_type": "code",
   "execution_count": 5,
   "metadata": {
    "collapsed": false
   },
   "outputs": [],
   "source": [
    "job_list = sorted([job_item.iden for job_item in job_queue])\n",
    "a,b      = nchoosek_rep(job_list, 2), nchoosek_rep(range(n), 2)\n",
    "common_index = [i for i, e in enumerate(b) if e in a]\n",
    "\n",
    "# random\n",
    "# at each step check if we can squeeze in job into in any machine\n",
    "numMachines = 0\n",
    "machineStatus = []\n",
    "        "
   ]
  }
 ],
 "metadata": {
  "anaconda-cloud": {},
  "kernelspec": {
   "display_name": "Python [default]",
   "language": "python",
   "name": "python3"
  },
  "language_info": {
   "codemirror_mode": {
    "name": "ipython",
    "version": 3
   },
   "file_extension": ".py",
   "mimetype": "text/x-python",
   "name": "python",
   "nbconvert_exporter": "python",
   "pygments_lexer": "ipython3",
   "version": "3.5.2"
  }
 },
 "nbformat": 4,
 "nbformat_minor": 1
}
